{
 "cells": [
  {
   "cell_type": "code",
   "execution_count": null,
   "metadata": {},
   "outputs": [
    {
     "data": {
      "application/vnd.jupyter.widget-view+json": {
       "model_id": "4992a54a1c254210a6d306036b26c46e",
       "version_major": 2,
       "version_minor": 0
      },
      "text/plain": [
       "Text(value='What is there', description='Text:')"
      ]
     },
     "metadata": {},
     "output_type": "display_data"
    },
    {
     "data": {
      "application/vnd.jupyter.widget-view+json": {
       "model_id": "c7d7e4247976417fb2783333d1e2e78f",
       "version_major": 2,
       "version_minor": 0
      },
      "text/plain": [
       "Dropdown(description='Dropdown:', index=1, options=('1st option', '2nd option', '3rd option'), value='2nd opti…"
      ]
     },
     "metadata": {},
     "output_type": "display_data"
    },
    {
     "data": {
      "application/vnd.jupyter.widget-view+json": {
       "model_id": "42ed2957fd724d218b5b8b022bc2f7c7",
       "version_major": 2,
       "version_minor": 0
      },
      "text/plain": [
       "Combobox(value='1st option', description='Combo:', options=('1st option', '2nd option', '3rd option'))"
      ]
     },
     "metadata": {},
     "output_type": "display_data"
    },
    {
     "data": {
      "application/vnd.jupyter.widget-view+json": {
       "model_id": "417b1f1dfd854712819555c4ab451b66",
       "version_major": 2,
       "version_minor": 0
      },
      "text/plain": [
       "Output()"
      ]
     },
     "metadata": {},
     "output_type": "display_data"
    }
   ],
   "source": [
    "import ipywidgets as widgets\n",
    "from IPython.display import display\n",
    "\n",
    "# Create a text field\n",
    "text = widgets.Text(\n",
    "    value='What is there',\n",
    "    description='Text:',\n",
    ")\n",
    "\n",
    "# Create a dropdown menu\n",
    "dropdown = widgets.Dropdown(\n",
    "    options=['1st option', '2nd option', '3rd option'],\n",
    "    value='2nd option',\n",
    "    description='Dropdown:',\n",
    ")\n",
    "\n",
    "# Create a dropdown with allow-input functionality\n",
    "text_and_dropdown = widgets.Combobox(\n",
    "    options=['1st option', '2nd option', '3rd option'],\n",
    "    value='1st option',\n",
    "    description='Combo:',\n",
    ")\n",
    "\n",
    "# Create an output widget to display the results\n",
    "output = widgets.Output()\n",
    "\n",
    "# Display the widgets\n",
    "display(text, dropdown, text_and_dropdown, output)\n",
    "\n",
    "# Access the values\n",
    "def on_change(change):\n",
    "    with output:\n",
    "        output.clear_output()  # Clear previous output\n",
    "        print(f\"Text: {text.value}\")\n",
    "        print(f\"Dropdown: {dropdown.value}\")\n",
    "        print(f\"Combo: {text_and_dropdown.value}\")\n",
    "\n",
    "# Observe changes\n",
    "text.observe(on_change, names='value')\n",
    "dropdown.observe(on_change, names='value')\n",
    "text_and_dropdown.observe(on_change, names='value')"
   ]
  }
 ],
 "metadata": {
  "kernelspec": {
   "display_name": "exploratory_phase",
   "language": "python",
   "name": "python3"
  },
  "language_info": {
   "codemirror_mode": {
    "name": "ipython",
    "version": 3
   },
   "file_extension": ".py",
   "mimetype": "text/x-python",
   "name": "python",
   "nbconvert_exporter": "python",
   "pygments_lexer": "ipython3",
   "version": "3.12.9"
  }
 },
 "nbformat": 4,
 "nbformat_minor": 2
}
